{
 "cells": [
  {
   "cell_type": "code",
   "execution_count": 2,
   "id": "7b12e2d0-cc1f-45eb-851b-264f826642e4",
   "metadata": {},
   "outputs": [
    {
     "data": {
      "text/html": [
       "\n",
       "            <div>\n",
       "                <p><b>SparkSession - in-memory</b></p>\n",
       "                \n",
       "        <div>\n",
       "            <p><b>SparkContext</b></p>\n",
       "\n",
       "            <p><a href=\"http://30a63e664cb6:4040\">Spark UI</a></p>\n",
       "\n",
       "            <dl>\n",
       "              <dt>Version</dt>\n",
       "                <dd><code>v3.3.0</code></dd>\n",
       "              <dt>Master</dt>\n",
       "                <dd><code>local[*]</code></dd>\n",
       "              <dt>AppName</dt>\n",
       "                <dd><code>6_partitionDetails_and_Joins</code></dd>\n",
       "            </dl>\n",
       "        </div>\n",
       "        \n",
       "            </div>\n",
       "        "
      ],
      "text/plain": [
       "<pyspark.sql.session.SparkSession at 0x77ddc24a3dc0>"
      ]
     },
     "execution_count": 2,
     "metadata": {},
     "output_type": "execute_result"
    }
   ],
   "source": [
    "from pyspark.sql import SparkSession\n",
    "\n",
    "spark = (\n",
    "    SparkSession\n",
    "    .builder\n",
    "    .appName(\"6_partitionDetails_and_Joins\")\n",
    "    .master(\"local[*]\")\n",
    "    .getOrCreate()\n",
    ")\n",
    "\n",
    "spark"
   ]
  },
  {
   "cell_type": "code",
   "execution_count": 4,
   "id": "05abc2f4-b3b5-477b-a5a2-65760d7093c3",
   "metadata": {},
   "outputs": [
    {
     "name": "stdout",
     "output_type": "stream",
     "text": [
      "+-----------+-------------+----------+---+------+------+----------+\n",
      "|employee_id|department_id|      name|age|gender|salary| hire_date|\n",
      "+-----------+-------------+----------+---+------+------+----------+\n",
      "|        001|          101|  John Doe| 30|  Male| 50000|2015-01-01|\n",
      "|        002|          101|Jane Smith| 25|Female| 45000|2016-02-15|\n",
      "|        003|          102| Bob Brown| 35|  Male| 55000|2014-05-01|\n",
      "|        004|          102| Alice Lee| 28|Female| 48000|2017-09-30|\n",
      "|        005|          103| Jack Chan| 40|  Male| 60000|2013-04-01|\n",
      "+-----------+-------------+----------+---+------+------+----------+\n",
      "only showing top 5 rows\n",
      "\n",
      "+-------------+---------------+-------+-------+-------+\n",
      "|department_id|department_name|   city|country| budget|\n",
      "+-------------+---------------+-------+-------+-------+\n",
      "|          101|          Sales|    NYC|     US|1000000|\n",
      "|          102|      Marketing|     LA|     US| 900000|\n",
      "|          103|        Finance| London|     UK|1200000|\n",
      "|          104|    Engineering|Beijing|  China|1500000|\n",
      "|          105|Human Resources|  Tokyo|  Japan| 800000|\n",
      "+-------------+---------------+-------+-------+-------+\n",
      "only showing top 5 rows\n",
      "\n"
     ]
    }
   ],
   "source": [
    "# Emp Data & Schema\n",
    "\n",
    "emp_data = [\n",
    "    [\"001\",\"101\",\"John Doe\",\"30\",\"Male\",\"50000\",\"2015-01-01\"],\n",
    "    [\"002\",\"101\",\"Jane Smith\",\"25\",\"Female\",\"45000\",\"2016-02-15\"],\n",
    "    [\"003\",\"102\",\"Bob Brown\",\"35\",\"Male\",\"55000\",\"2014-05-01\"],\n",
    "    [\"004\",\"102\",\"Alice Lee\",\"28\",\"Female\",\"48000\",\"2017-09-30\"],\n",
    "    [\"005\",\"103\",\"Jack Chan\",\"40\",\"Male\",\"60000\",\"2013-04-01\"],\n",
    "    [\"006\",\"103\",\"Jill Wong\",\"32\",\"Female\",\"52000\",\"2018-07-01\"],\n",
    "    [\"007\",\"101\",\"James Johnson\",\"42\",\"Male\",\"70000\",\"2012-03-15\"],\n",
    "    [\"008\",\"102\",\"Kate Kim\",\"29\",\"Female\",\"51000\",\"2019-10-01\"],\n",
    "    [\"009\",\"103\",\"Tom Tan\",\"33\",\"Male\",\"58000\",\"2016-06-01\"],\n",
    "    [\"010\",\"104\",\"Lisa Lee\",\"27\",\"Female\",\"47000\",\"2018-08-01\"],\n",
    "    [\"011\",\"104\",\"David Park\",\"38\",\"Male\",\"65000\",\"2015-11-01\"],\n",
    "    [\"012\",\"105\",\"Susan Chen\",\"31\",\"Female\",\"54000\",\"2017-02-15\"],\n",
    "    [\"013\",\"106\",\"Brian Kim\",\"45\",\"Male\",\"75000\",\"2011-07-01\"],\n",
    "    [\"014\",\"107\",\"Emily Lee\",\"26\",\"Female\",\"46000\",\"2019-01-01\"],\n",
    "    [\"015\",\"106\",\"Michael Lee\",\"37\",\"Male\",\"63000\",\"2014-09-30\"],\n",
    "    [\"016\",\"107\",\"Kelly Zhang\",\"30\",\"Female\",\"49000\",\"2018-04-01\"],\n",
    "    [\"017\",\"105\",\"George Wang\",\"34\",\"Male\",\"57000\",\"2016-03-15\"],\n",
    "    [\"018\",\"104\",\"Nancy Liu\",\"29\",\"\",\"50000\",\"2017-06-01\"],\n",
    "    [\"019\",\"103\",\"Steven Chen\",\"36\",\"Male\",\"62000\",\"2015-08-01\"],\n",
    "    [\"020\",\"102\",\"Grace Kim\",\"32\",\"Female\",\"53000\",\"2018-11-01\"]\n",
    "]\n",
    "\n",
    "emp_schema = \"employee_id string, department_id string, name string, age string, gender string, salary string, hire_date string\"\n",
    "\n",
    "dept_data = [\n",
    "    [\"101\", \"Sales\", \"NYC\", \"US\", \"1000000\"],\n",
    "    [\"102\", \"Marketing\", \"LA\", \"US\", \"900000\"],\n",
    "    [\"103\", \"Finance\", \"London\", \"UK\", \"1200000\"],\n",
    "    [\"104\", \"Engineering\", \"Beijing\", \"China\", \"1500000\"],\n",
    "    [\"105\", \"Human Resources\", \"Tokyo\", \"Japan\", \"800000\"],\n",
    "    [\"106\", \"Research and Development\", \"Perth\", \"Australia\", \"1100000\"],\n",
    "    [\"107\", \"Customer Service\", \"Sydney\", \"Australia\", \"950000\"]\n",
    "]\n",
    "\n",
    "dept_schema = \"department_id string, department_name string, city string, country string, budget string\"\n",
    "\n",
    "emp = spark.createDataFrame(data = emp_data, schema = emp_schema)\n",
    "dept = spark.createDataFrame(data = dept_data, schema = dept_schema)\n",
    "\n",
    "\n",
    "emp.show(5)\n",
    "dept.show(5)"
   ]
  },
  {
   "cell_type": "code",
   "execution_count": 6,
   "id": "e50bc4a8-2fa6-4c7d-9d9d-f9d71c3d29e0",
   "metadata": {},
   "outputs": [
    {
     "data": {
      "text/plain": [
       "12"
      ]
     },
     "execution_count": 6,
     "metadata": {},
     "output_type": "execute_result"
    }
   ],
   "source": [
    "emp.rdd.getNumPartitions()\n"
   ]
  },
  {
   "cell_type": "code",
   "execution_count": 7,
   "id": "154e1212-772c-42eb-932d-2710edb21dc1",
   "metadata": {},
   "outputs": [
    {
     "data": {
      "text/plain": [
       "12"
      ]
     },
     "execution_count": 7,
     "metadata": {},
     "output_type": "execute_result"
    }
   ],
   "source": [
    "dept.rdd.getNumPartitions()"
   ]
  },
  {
   "cell_type": "code",
   "execution_count": 8,
   "id": "ba0f1a9b-7dfc-4f85-80fb-66bd54983ffe",
   "metadata": {},
   "outputs": [
    {
     "name": "stdout",
     "output_type": "stream",
     "text": [
      "+-----------+-------------+-----------+---+------+------+----------+\n",
      "|employee_id|department_id|       name|age|gender|salary| hire_date|\n",
      "+-----------+-------------+-----------+---+------+------+----------+\n",
      "|        003|          102|  Bob Brown| 35|  Male| 55000|2014-05-01|\n",
      "|        004|          102|  Alice Lee| 28|Female| 48000|2017-09-30|\n",
      "|        008|          102|   Kate Kim| 29|Female| 51000|2019-10-01|\n",
      "|        014|          107|  Emily Lee| 26|Female| 46000|2019-01-01|\n",
      "|        016|          107|Kelly Zhang| 30|Female| 49000|2018-04-01|\n",
      "+-----------+-------------+-----------+---+------+------+----------+\n",
      "only showing top 5 rows\n",
      "\n"
     ]
    }
   ],
   "source": [
    "# Repartition of data using repartition & coalesce\n",
    "#emp.repartition(100) - This is allowed.\n",
    "emp = emp.repartition(4, \"department_id\")\n",
    "emp.show(5)"
   ]
  },
  {
   "cell_type": "code",
   "execution_count": 11,
   "id": "2d380b0d-42c2-4525-995a-666f8eb33ad2",
   "metadata": {},
   "outputs": [
    {
     "name": "stdout",
     "output_type": "stream",
     "text": [
      "+-----------+-------------+-------------+---+------+------+----------+------------+\n",
      "|employee_id|department_id|         name|age|gender|salary| hire_date|Partition_ID|\n",
      "+-----------+-------------+-------------+---+------+------+----------+------------+\n",
      "|        003|          102|    Bob Brown| 35|  Male| 55000|2014-05-01|           0|\n",
      "|        004|          102|    Alice Lee| 28|Female| 48000|2017-09-30|           0|\n",
      "|        008|          102|     Kate Kim| 29|Female| 51000|2019-10-01|           0|\n",
      "|        014|          107|    Emily Lee| 26|Female| 46000|2019-01-01|           0|\n",
      "|        016|          107|  Kelly Zhang| 30|Female| 49000|2018-04-01|           0|\n",
      "|        020|          102|    Grace Kim| 32|Female| 53000|2018-11-01|           0|\n",
      "|        012|          105|   Susan Chen| 31|Female| 54000|2017-02-15|           1|\n",
      "|        017|          105|  George Wang| 34|  Male| 57000|2016-03-15|           1|\n",
      "|        010|          104|     Lisa Lee| 27|Female| 47000|2018-08-01|           2|\n",
      "|        011|          104|   David Park| 38|  Male| 65000|2015-11-01|           2|\n",
      "|        013|          106|    Brian Kim| 45|  Male| 75000|2011-07-01|           2|\n",
      "|        015|          106|  Michael Lee| 37|  Male| 63000|2014-09-30|           2|\n",
      "|        018|          104|    Nancy Liu| 29|      | 50000|2017-06-01|           2|\n",
      "|        001|          101|     John Doe| 30|  Male| 50000|2015-01-01|           3|\n",
      "|        002|          101|   Jane Smith| 25|Female| 45000|2016-02-15|           3|\n",
      "|        005|          103|    Jack Chan| 40|  Male| 60000|2013-04-01|           3|\n",
      "|        006|          103|    Jill Wong| 32|Female| 52000|2018-07-01|           3|\n",
      "|        007|          101|James Johnson| 42|  Male| 70000|2012-03-15|           3|\n",
      "|        009|          103|      Tom Tan| 33|  Male| 58000|2016-06-01|           3|\n",
      "|        019|          103|  Steven Chen| 36|  Male| 62000|2015-08-01|           3|\n",
      "+-----------+-------------+-------------+---+------+------+----------+------------+\n",
      "\n"
     ]
    }
   ],
   "source": [
    "from pyspark.sql.functions import spark_partition_id\n",
    "\n",
    "emp = emp.withColumn(\"Partition_ID\", spark_partition_id())\n",
    "emp.show()"
   ]
  },
  {
   "cell_type": "code",
   "execution_count": 14,
   "id": "c84f3972-7718-4905-a4b5-ef6710d7ed7d",
   "metadata": {},
   "outputs": [
    {
     "ename": "TypeError",
     "evalue": "DataFrame.coalesce() takes 2 positional arguments but 3 were given",
     "output_type": "error",
     "traceback": [
      "\u001b[0;31m---------------------------------------------------------------------------\u001b[0m",
      "\u001b[0;31mTypeError\u001b[0m                                 Traceback (most recent call last)",
      "Cell \u001b[0;32mIn[14], line 1\u001b[0m\n\u001b[0;32m----> 1\u001b[0m dept \u001b[38;5;241m=\u001b[39m \u001b[43mdept\u001b[49m\u001b[38;5;241;43m.\u001b[39;49m\u001b[43mcoalesce\u001b[49m\u001b[43m(\u001b[49m\u001b[38;5;241;43m4\u001b[39;49m\u001b[43m,\u001b[49m\u001b[43m \u001b[49m\u001b[38;5;124;43m\"\u001b[39;49m\u001b[38;5;124;43mdepartment_id\u001b[39;49m\u001b[38;5;124;43m\"\u001b[39;49m\u001b[43m)\u001b[49m\n",
      "\u001b[0;31mTypeError\u001b[0m: DataFrame.coalesce() takes 2 positional arguments but 3 were given"
     ]
    }
   ],
   "source": [
    "dept = dept.coalesce(4, \"department_id\")"
   ]
  },
  {
   "cell_type": "code",
   "execution_count": 17,
   "id": "d9b285eb-c21a-4074-8f2c-c3701a7a5b77",
   "metadata": {},
   "outputs": [],
   "source": [
    "# coalesce does not take column to re partition the data on!\n",
    "dept = dept.coalesce(4)"
   ]
  },
  {
   "cell_type": "code",
   "execution_count": 18,
   "id": "2ecf47c1-bb24-4fd6-be86-059b3ea18bf6",
   "metadata": {},
   "outputs": [
    {
     "name": "stdout",
     "output_type": "stream",
     "text": [
      "+-------------+--------------------+-------+---------+-------+------------+\n",
      "|department_id|     department_name|   city|  country| budget|Partition_id|\n",
      "+-------------+--------------------+-------+---------+-------+------------+\n",
      "|          101|               Sales|    NYC|       US|1000000|           0|\n",
      "|          102|           Marketing|     LA|       US| 900000|           1|\n",
      "|          103|             Finance| London|       UK|1200000|           1|\n",
      "|          104|         Engineering|Beijing|    China|1500000|           2|\n",
      "|          105|     Human Resources|  Tokyo|    Japan| 800000|           2|\n",
      "|          106|Research and Deve...|  Perth|Australia|1100000|           3|\n",
      "|          107|    Customer Service| Sydney|Australia| 950000|           3|\n",
      "+-------------+--------------------+-------+---------+-------+------------+\n",
      "\n"
     ]
    }
   ],
   "source": [
    "dept = dept.withColumn(\"Partition_id\", spark_partition_id())\n",
    "dept.show()"
   ]
  },
  {
   "cell_type": "code",
   "execution_count": 21,
   "id": "92ecc2d3-75cf-4dd5-a3f9-d2b8d06d9751",
   "metadata": {},
   "outputs": [
    {
     "name": "stdout",
     "output_type": "stream",
     "text": [
      "+-----------+-------------+-------------+---+------+------+----------+------------+-------------+---------------+----+-------+-------+------------+\n",
      "|employee_id|department_id|         name|age|gender|salary| hire_date|Partition_ID|department_id|department_name|city|country| budget|Partition_id|\n",
      "+-----------+-------------+-------------+---+------+------+----------+------------+-------------+---------------+----+-------+-------+------------+\n",
      "|        007|          101|James Johnson| 42|  Male| 70000|2012-03-15|           3|          101|          Sales| NYC|     US|1000000|           0|\n",
      "|        002|          101|   Jane Smith| 25|Female| 45000|2016-02-15|           3|          101|          Sales| NYC|     US|1000000|           0|\n",
      "|        001|          101|     John Doe| 30|  Male| 50000|2015-01-01|           3|          101|          Sales| NYC|     US|1000000|           0|\n",
      "|        020|          102|    Grace Kim| 32|Female| 53000|2018-11-01|           0|          102|      Marketing|  LA|     US| 900000|           1|\n",
      "|        008|          102|     Kate Kim| 29|Female| 51000|2019-10-01|           0|          102|      Marketing|  LA|     US| 900000|           1|\n",
      "+-----------+-------------+-------------+---+------+------+----------+------------+-------------+---------------+----+-------+-------+------------+\n",
      "only showing top 5 rows\n",
      "\n"
     ]
    }
   ],
   "source": [
    "#inner join\n",
    "emp.join(dept, how = \"inner\", on = emp.department_id == dept.department_id).show(5)"
   ]
  },
  {
   "cell_type": "code",
   "execution_count": 22,
   "id": "5e24a3f1-44d7-474d-8d80-131dbf2ce9d2",
   "metadata": {},
   "outputs": [
    {
     "name": "stdout",
     "output_type": "stream",
     "text": [
      "+-------------+----------------+\n",
      "|         name| department_name|\n",
      "+-------------+----------------+\n",
      "|     John Doe|           Sales|\n",
      "|   Jane Smith|           Sales|\n",
      "|James Johnson|           Sales|\n",
      "|    Emily Lee|Customer Service|\n",
      "|  Kelly Zhang|Customer Service|\n",
      "+-------------+----------------+\n",
      "only showing top 5 rows\n",
      "\n"
     ]
    }
   ],
   "source": [
    "emp.join(dept, how = 'inner', on = emp.department_id == dept.department_id).select(emp.name, dept.department_name).show(5)"
   ]
  },
  {
   "cell_type": "code",
   "execution_count": 29,
   "id": "8a674c0a-228c-4c97-b74f-a921aabd8691",
   "metadata": {},
   "outputs": [
    {
     "ename": "NameError",
     "evalue": "name 'e' is not defined",
     "output_type": "error",
     "traceback": [
      "\u001b[0;31m---------------------------------------------------------------------------\u001b[0m",
      "\u001b[0;31mNameError\u001b[0m                                 Traceback (most recent call last)",
      "Cell \u001b[0;32mIn[29], line 3\u001b[0m\n\u001b[1;32m      1\u001b[0m \u001b[38;5;66;03m#alias\u001b[39;00m\n\u001b[0;32m----> 3\u001b[0m emp\u001b[38;5;241m.\u001b[39malias(\u001b[38;5;124m\"\u001b[39m\u001b[38;5;124me\u001b[39m\u001b[38;5;124m\"\u001b[39m)\u001b[38;5;241m.\u001b[39mjoin(dept\u001b[38;5;241m.\u001b[39malias(\u001b[38;5;124m\"\u001b[39m\u001b[38;5;124md\u001b[39m\u001b[38;5;124m\"\u001b[39m), how \u001b[38;5;241m=\u001b[39m \u001b[38;5;124m'\u001b[39m\u001b[38;5;124minner\u001b[39m\u001b[38;5;124m'\u001b[39m, on \u001b[38;5;241m=\u001b[39m \u001b[43me\u001b[49m\u001b[38;5;241m.\u001b[39mdepartment_id \u001b[38;5;241m==\u001b[39m d\u001b[38;5;241m.\u001b[39mdepartment_id)\u001b[38;5;241m.\u001b[39mselect(e\u001b[38;5;241m.\u001b[39mname, d\u001b[38;5;241m.\u001b[39mdepartment_id)\u001b[38;5;241m.\u001b[39mshow(\u001b[38;5;241m5\u001b[39m)\n",
      "\u001b[0;31mNameError\u001b[0m: name 'e' is not defined"
     ]
    }
   ],
   "source": [
    "#alias\n",
    "\n",
    "emp.alias(\"e\").join(dept.alias(\"d\"), how = 'inner', on = e.department_id == d.department_id).select(e.name, d.department_id).show(5)"
   ]
  },
  {
   "cell_type": "code",
   "execution_count": 30,
   "id": "db7ff914-cb93-4025-a8eb-a0a580cce655",
   "metadata": {},
   "outputs": [
    {
     "ename": "NameError",
     "evalue": "name 'd' is not defined",
     "output_type": "error",
     "traceback": [
      "\u001b[0;31m---------------------------------------------------------------------------\u001b[0m",
      "\u001b[0;31mNameError\u001b[0m                                 Traceback (most recent call last)",
      "Cell \u001b[0;32mIn[30], line 3\u001b[0m\n\u001b[1;32m      1\u001b[0m \u001b[38;5;66;03m#alias\u001b[39;00m\n\u001b[0;32m----> 3\u001b[0m emp\u001b[38;5;241m.\u001b[39malias(\u001b[38;5;124m\"\u001b[39m\u001b[38;5;124me\u001b[39m\u001b[38;5;124m\"\u001b[39m)\u001b[38;5;241m.\u001b[39mjoin(dept\u001b[38;5;241m.\u001b[39malias(\u001b[38;5;124m\"\u001b[39m\u001b[38;5;124md\u001b[39m\u001b[38;5;124m\"\u001b[39m), how \u001b[38;5;241m=\u001b[39m \u001b[38;5;124m'\u001b[39m\u001b[38;5;124minner\u001b[39m\u001b[38;5;124m'\u001b[39m, on \u001b[38;5;241m=\u001b[39m emp\u001b[38;5;241m.\u001b[39mdepartment_id \u001b[38;5;241m==\u001b[39m \u001b[43md\u001b[49m\u001b[38;5;241m.\u001b[39mdepartment_id)\u001b[38;5;241m.\u001b[39mselect(e\u001b[38;5;241m.\u001b[39mname, d\u001b[38;5;241m.\u001b[39mdepartment_id)\u001b[38;5;241m.\u001b[39mshow(\u001b[38;5;241m5\u001b[39m)\n",
      "\u001b[0;31mNameError\u001b[0m: name 'd' is not defined"
     ]
    }
   ],
   "source": [
    "#alias\n",
    "\n",
    "emp.alias(\"e\").join(dept.alias(\"d\"), how = 'inner', on = emp.department_id == d.department_id).select(e.name, d.department_id).show(5)"
   ]
  },
  {
   "cell_type": "code",
   "execution_count": 31,
   "id": "d8f4008f-9993-42a5-a403-19ee9dba3e71",
   "metadata": {},
   "outputs": [
    {
     "ename": "NameError",
     "evalue": "name 'e' is not defined",
     "output_type": "error",
     "traceback": [
      "\u001b[0;31m---------------------------------------------------------------------------\u001b[0m",
      "\u001b[0;31mNameError\u001b[0m                                 Traceback (most recent call last)",
      "Cell \u001b[0;32mIn[31], line 3\u001b[0m\n\u001b[1;32m      1\u001b[0m \u001b[38;5;66;03m#alias\u001b[39;00m\n\u001b[0;32m----> 3\u001b[0m emp\u001b[38;5;241m.\u001b[39malias(\u001b[38;5;124m\"\u001b[39m\u001b[38;5;124me\u001b[39m\u001b[38;5;124m\"\u001b[39m)\u001b[38;5;241m.\u001b[39mjoin(dept\u001b[38;5;241m.\u001b[39malias(\u001b[38;5;124m\"\u001b[39m\u001b[38;5;124md\u001b[39m\u001b[38;5;124m\"\u001b[39m), how \u001b[38;5;241m=\u001b[39m \u001b[38;5;124m'\u001b[39m\u001b[38;5;124minner\u001b[39m\u001b[38;5;124m'\u001b[39m, on \u001b[38;5;241m=\u001b[39m emp\u001b[38;5;241m.\u001b[39mdepartment_id \u001b[38;5;241m==\u001b[39m dept\u001b[38;5;241m.\u001b[39mdepartment_id)\u001b[38;5;241m.\u001b[39mselect(\u001b[43me\u001b[49m\u001b[38;5;241m.\u001b[39mname, d\u001b[38;5;241m.\u001b[39mdepartment_id)\u001b[38;5;241m.\u001b[39mshow(\u001b[38;5;241m5\u001b[39m)\n",
      "\u001b[0;31mNameError\u001b[0m: name 'e' is not defined"
     ]
    }
   ],
   "source": [
    "#alias\n",
    "\n",
    "emp.alias(\"e\").join(dept.alias(\"d\"), how = 'inner', on = emp.department_id == dept.department_id).select(e.name, d.department_id).show(5)"
   ]
  },
  {
   "cell_type": "code",
   "execution_count": 35,
   "id": "f35e9181-aa08-420d-af45-c599494fe9fd",
   "metadata": {},
   "outputs": [
    {
     "name": "stdout",
     "output_type": "stream",
     "text": [
      "+-------------+-------------+\n",
      "|         name|department_id|\n",
      "+-------------+-------------+\n",
      "|     John Doe|          101|\n",
      "|   Jane Smith|          101|\n",
      "|James Johnson|          101|\n",
      "|    Emily Lee|          107|\n",
      "|  Kelly Zhang|          107|\n",
      "+-------------+-------------+\n",
      "\n"
     ]
    }
   ],
   "source": [
    "#what is the use of alias if we cannot use in joins as above?\n",
    "alias_df = emp.alias(\"e\").join(dept.alias(\"d\"), how = 'inner', on = emp.department_id == dept.department_id).limit(5)\n",
    "alias_df.select(\"e.name\", \"d.department_id\").show()"
   ]
  },
  {
   "cell_type": "code",
   "execution_count": 26,
   "id": "2d1baf7c-af12-4884-807d-299a9ef64b48",
   "metadata": {},
   "outputs": [
    {
     "name": "stdout",
     "output_type": "stream",
     "text": [
      "+-----------+-------------+-------------+---+------+------+----------+------------+-------------+---------------+----+-------+-------+------------+\n",
      "|employee_id|department_id|         name|age|gender|salary| hire_date|Partition_ID|department_id|department_name|city|country| budget|Partition_id|\n",
      "+-----------+-------------+-------------+---+------+------+----------+------------+-------------+---------------+----+-------+-------+------------+\n",
      "|        003|          102|    Bob Brown| 35|  Male| 55000|2014-05-01|           0|         null|           null|null|   null|   null|        null|\n",
      "|        004|          102|    Alice Lee| 28|Female| 48000|2017-09-30|           0|         null|           null|null|   null|   null|        null|\n",
      "|        008|          102|     Kate Kim| 29|Female| 51000|2019-10-01|           0|         null|           null|null|   null|   null|        null|\n",
      "|        014|          107|    Emily Lee| 26|Female| 46000|2019-01-01|           0|         null|           null|null|   null|   null|        null|\n",
      "|        016|          107|  Kelly Zhang| 30|Female| 49000|2018-04-01|           0|         null|           null|null|   null|   null|        null|\n",
      "|        020|          102|    Grace Kim| 32|Female| 53000|2018-11-01|           0|         null|           null|null|   null|   null|        null|\n",
      "|        012|          105|   Susan Chen| 31|Female| 54000|2017-02-15|           1|         null|           null|null|   null|   null|        null|\n",
      "|        017|          105|  George Wang| 34|  Male| 57000|2016-03-15|           1|         null|           null|null|   null|   null|        null|\n",
      "|        010|          104|     Lisa Lee| 27|Female| 47000|2018-08-01|           2|         null|           null|null|   null|   null|        null|\n",
      "|        011|          104|   David Park| 38|  Male| 65000|2015-11-01|           2|         null|           null|null|   null|   null|        null|\n",
      "|        013|          106|    Brian Kim| 45|  Male| 75000|2011-07-01|           2|         null|           null|null|   null|   null|        null|\n",
      "|        015|          106|  Michael Lee| 37|  Male| 63000|2014-09-30|           2|         null|           null|null|   null|   null|        null|\n",
      "|        018|          104|    Nancy Liu| 29|      | 50000|2017-06-01|           2|         null|           null|null|   null|   null|        null|\n",
      "|        001|          101|     John Doe| 30|  Male| 50000|2015-01-01|           3|          101|          Sales| NYC|     US|1000000|           0|\n",
      "|        002|          101|   Jane Smith| 25|Female| 45000|2016-02-15|           3|          101|          Sales| NYC|     US|1000000|           0|\n",
      "|        005|          103|    Jack Chan| 40|  Male| 60000|2013-04-01|           3|         null|           null|null|   null|   null|        null|\n",
      "|        006|          103|    Jill Wong| 32|Female| 52000|2018-07-01|           3|         null|           null|null|   null|   null|        null|\n",
      "|        007|          101|James Johnson| 42|  Male| 70000|2012-03-15|           3|          101|          Sales| NYC|     US|1000000|           0|\n",
      "|        009|          103|      Tom Tan| 33|  Male| 58000|2016-06-01|           3|         null|           null|null|   null|   null|        null|\n",
      "|        019|          103|  Steven Chen| 36|  Male| 62000|2015-08-01|           3|         null|           null|null|   null|   null|        null|\n",
      "+-----------+-------------+-------------+---+------+------+----------+------------+-------------+---------------+----+-------+-------+------------+\n",
      "\n"
     ]
    }
   ],
   "source": [
    "emp.join(dept, how = 'left_outer', on = (emp.department_id == dept.department_id) & (emp.department_id == \"101\")).show()"
   ]
  },
  {
   "cell_type": "code",
   "execution_count": 28,
   "id": "91aabfd3-cd83-40b2-a2c2-208603c2d39c",
   "metadata": {},
   "outputs": [
    {
     "name": "stdout",
     "output_type": "stream",
     "text": [
      "+-----------+-------------+-----------+---+------+------+----------+------------+-------------+---------------+----+-------+------+------------+\n",
      "|employee_id|department_id|       name|age|gender|salary| hire_date|Partition_ID|department_id|department_name|city|country|budget|Partition_id|\n",
      "+-----------+-------------+-----------+---+------+------+----------+------------+-------------+---------------+----+-------+------+------------+\n",
      "|        003|          102|  Bob Brown| 35|  Male| 55000|2014-05-01|           0|         null|           null|null|   null|  null|        null|\n",
      "|        004|          102|  Alice Lee| 28|Female| 48000|2017-09-30|           0|         null|           null|null|   null|  null|        null|\n",
      "|        008|          102|   Kate Kim| 29|Female| 51000|2019-10-01|           0|         null|           null|null|   null|  null|        null|\n",
      "|        014|          107|  Emily Lee| 26|Female| 46000|2019-01-01|           0|         null|           null|null|   null|  null|        null|\n",
      "|        016|          107|Kelly Zhang| 30|Female| 49000|2018-04-01|           0|         null|           null|null|   null|  null|        null|\n",
      "+-----------+-------------+-----------+---+------+------+----------+------------+-------------+---------------+----+-------+------+------------+\n",
      "only showing top 5 rows\n",
      "\n"
     ]
    }
   ],
   "source": [
    "#isNull() and isNotNull()\n",
    "emp.join(dept, how = 'left_outer', on = (emp.department_id == dept.department_id) & (emp.department_id == \"101\")& (dept.department_id.isNull())).show(5)\n"
   ]
  },
  {
   "cell_type": "code",
   "execution_count": 36,
   "id": "d5d939da-91fc-46a0-a3a2-1ff8f1cb7914",
   "metadata": {},
   "outputs": [],
   "source": [
    "spark.stop()"
   ]
  },
  {
   "cell_type": "code",
   "execution_count": null,
   "id": "0e7e63dc-0469-4462-854f-2ef19ca10240",
   "metadata": {},
   "outputs": [],
   "source": []
  }
 ],
 "metadata": {
  "kernelspec": {
   "display_name": "Python 3 (ipykernel)",
   "language": "python",
   "name": "python3"
  },
  "language_info": {
   "codemirror_mode": {
    "name": "ipython",
    "version": 3
   },
   "file_extension": ".py",
   "mimetype": "text/x-python",
   "name": "python",
   "nbconvert_exporter": "python",
   "pygments_lexer": "ipython3",
   "version": "3.10.18"
  }
 },
 "nbformat": 4,
 "nbformat_minor": 5
}
