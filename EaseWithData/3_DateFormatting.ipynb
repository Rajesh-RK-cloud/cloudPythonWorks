{
 "cells": [
  {
   "cell_type": "code",
   "execution_count": 1,
   "id": "48d18ec3-07f1-409a-9316-950bed0072dc",
   "metadata": {},
   "outputs": [
    {
     "data": {
      "text/html": [
       "\n",
       "            <div>\n",
       "                <p><b>SparkSession - in-memory</b></p>\n",
       "                \n",
       "        <div>\n",
       "            <p><b>SparkContext</b></p>\n",
       "\n",
       "            <p><a href=\"http://30a63e664cb6:4040\">Spark UI</a></p>\n",
       "\n",
       "            <dl>\n",
       "              <dt>Version</dt>\n",
       "                <dd><code>v3.3.0</code></dd>\n",
       "              <dt>Master</dt>\n",
       "                <dd><code>local[*]</code></dd>\n",
       "              <dt>AppName</dt>\n",
       "                <dd><code>DateFormatting</code></dd>\n",
       "            </dl>\n",
       "        </div>\n",
       "        \n",
       "            </div>\n",
       "        "
      ],
      "text/plain": [
       "<pyspark.sql.session.SparkSession at 0x79e4d7498370>"
      ]
     },
     "execution_count": 1,
     "metadata": {},
     "output_type": "execute_result"
    }
   ],
   "source": [
    "from pyspark.sql import SparkSession\n",
    "\n",
    "spark = (\n",
    "    SparkSession\n",
    "    .builder\n",
    "    .appName(\"DateFormatting\")\n",
    "    .master(\"local[*]\")\n",
    "    .getOrCreate()\n",
    ")\n",
    "\n",
    "spark\n"
   ]
  },
  {
   "cell_type": "code",
   "execution_count": 4,
   "id": "4198389b-d324-4553-8b5c-9d069253358e",
   "metadata": {},
   "outputs": [
    {
     "name": "stdout",
     "output_type": "stream",
     "text": [
      "+-----------+-------------+----------+---+------+------+----------+\n",
      "|employee_id|department_id|      name|age|gender|salary| hire_date|\n",
      "+-----------+-------------+----------+---+------+------+----------+\n",
      "|        001|          101|  John Doe| 30|  Male| 50000|2015-01-01|\n",
      "|        002|          101|Jane Smith| 25|Female| 45000|2016-02-15|\n",
      "|        003|          102| Bob Brown| 35|  Male| 55000|2014-05-01|\n",
      "|        004|          102| Alice Lee| 28|Female| 48000|2017-09-30|\n",
      "|        005|          103| Jack Chan| 40|  Male| 60000|2013-04-01|\n",
      "+-----------+-------------+----------+---+------+------+----------+\n",
      "only showing top 5 rows\n",
      "\n",
      "root\n",
      " |-- employee_id: string (nullable = true)\n",
      " |-- department_id: string (nullable = true)\n",
      " |-- name: string (nullable = true)\n",
      " |-- age: string (nullable = true)\n",
      " |-- gender: string (nullable = true)\n",
      " |-- salary: string (nullable = true)\n",
      " |-- hire_date: string (nullable = true)\n",
      "\n"
     ]
    }
   ],
   "source": [
    "emp_data = [\n",
    "    [\"001\",\"101\",\"John Doe\",\"30\",\"Male\",\"50000\",\"2015-01-01\"],\n",
    "    [\"002\",\"101\",\"Jane Smith\",\"25\",\"Female\",\"45000\",\"2016-02-15\"],\n",
    "    [\"003\",\"102\",\"Bob Brown\",\"35\",\"Male\",\"55000\",\"2014-05-01\"],\n",
    "    [\"004\",\"102\",\"Alice Lee\",\"28\",\"Female\",\"48000\",\"2017-09-30\"],\n",
    "    [\"005\",\"103\",\"Jack Chan\",\"40\",\"Male\",\"60000\",\"2013-04-01\"],\n",
    "    [\"006\",\"103\",\"Jill Wong\",\"32\",\"Female\",\"52000\",\"2018-07-01\"],\n",
    "    [\"007\",\"101\",\"James Johnson\",\"42\",\"Male\",\"70000\",\"2012-03-15\"],\n",
    "    [\"008\",\"102\",\"Kate Kim\",\"29\",\"Female\",\"51000\",\"2019-10-01\"],\n",
    "    [\"009\",\"103\",\"Tom Tan\",\"33\",\"Male\",\"58000\",\"2016-06-01\"],\n",
    "    [\"010\",\"104\",\"Lisa Lee\",\"27\",\"Female\",\"47000\",\"2018-08-01\"],\n",
    "    [\"011\",\"104\",\"David Park\",\"38\",\"Male\",\"65000\",\"2015-11-01\"],\n",
    "    [\"012\",\"105\",\"Susan Chen\",\"31\",\"Female\",\"54000\",\"2017-02-15\"],\n",
    "    [\"013\",\"106\",\"Brian Kim\",\"45\",\"Male\",\"75000\",\"2011-07-01\"],\n",
    "    [\"014\",\"107\",\"Emily Lee\",\"26\",\"Female\",\"46000\",\"2019-01-01\"],\n",
    "    [\"015\",\"106\",\"Michael Lee\",\"37\",\"Male\",\"63000\",\"2014-09-30\"],\n",
    "    [\"016\",\"107\",\"Kelly Zhang\",\"30\",\"Female\",\"49000\",\"2018-04-01\"],\n",
    "    [\"017\",\"105\",\"George Wang\",\"34\",\"Male\",\"57000\",\"2016-03-15\"],\n",
    "    [\"018\",\"104\",\"Nancy Liu\",\"29\",\"\",\"50000\",\"2017-06-01\"],\n",
    "    [\"019\",\"103\",\"Steven Chen\",\"36\",\"Male\",\"62000\",\"2015-08-01\"],\n",
    "    [\"020\",\"102\",\"Grace Kim\",\"32\",\"Female\",\"53000\",\"2018-11-01\"]\n",
    "]\n",
    "\n",
    "emp_schema = \"employee_id string, department_id string, name string, age string, gender string, salary string, hire_date string\"\n",
    "\n",
    "df = spark.createDataFrame(data = emp_data, schema = emp_schema)\n",
    "\n",
    "df.show(5)\n",
    "\n",
    "df.printSchema()"
   ]
  },
  {
   "cell_type": "code",
   "execution_count": 17,
   "id": "93fbc20e-6b12-4255-a2dc-f08daaf4ec52",
   "metadata": {},
   "outputs": [
    {
     "name": "stdout",
     "output_type": "stream",
     "text": [
      "+-----------+-------------+----------+---+------+------+----------+----------+\n",
      "|employee_id|department_id|      name|age|gender|salary| hire_date|new_gender|\n",
      "+-----------+-------------+----------+---+------+------+----------+----------+\n",
      "|        001|          101|  John Doe| 30|  Male| 50000|2015-01-01|         M|\n",
      "|        002|          101|Jane Smith| 25|Female| 45000|2016-02-15|         F|\n",
      "|        003|          102| Bob Brown| 35|  Male| 55000|2014-05-01|         M|\n",
      "|        004|          102| Alice Lee| 28|Female| 48000|2017-09-30|         F|\n",
      "|        005|          103| Jack Chan| 40|  Male| 60000|2013-04-01|         M|\n",
      "+-----------+-------------+----------+---+------+------+----------+----------+\n",
      "only showing top 5 rows\n",
      "\n",
      "+-----------+-------------+----------+---+------+------+----------+----------+\n",
      "|employee_id|department_id|      name|age|gender|salary| hire_date|new_gender|\n",
      "+-----------+-------------+----------+---+------+------+----------+----------+\n",
      "|        001|          101|  John Doe| 30|  Male| 50000|2015-01-01|         M|\n",
      "|        002|          101|Jane Smith| 25|Female| 45000|2016-02-15|         M|\n",
      "|        003|          102| Bob Brown| 35|  Male| 55000|2014-05-01|         M|\n",
      "|        004|          102| Alice Lee| 28|Female| 48000|2017-09-30|         M|\n",
      "|        005|          103| Jack Chan| 40|  Male| 60000|2013-04-01|         M|\n",
      "+-----------+-------------+----------+---+------+------+----------+----------+\n",
      "only showing top 5 rows\n",
      "\n",
      "+-----------+-------------+----------+---+------+------+----------+----------+\n",
      "|employee_id|department_id|      name|age|gender|salary| hire_date|new_gender|\n",
      "+-----------+-------------+----------+---+------+------+----------+----------+\n",
      "|        001|          101|  John Doe| 30|  Male| 50000|2015-01-01|         M|\n",
      "|        002|          101|Jane Smith| 25|Female| 45000|2016-02-15|         M|\n",
      "|        003|          102| Bob Brown| 35|  Male| 55000|2014-05-01|         M|\n",
      "|        004|          102| Alice Lee| 28|Female| 48000|2017-09-30|         M|\n",
      "|        005|          103| Jack Chan| 40|  Male| 60000|2013-04-01|         M|\n",
      "+-----------+-------------+----------+---+------+------+----------+----------+\n",
      "only showing top 5 rows\n",
      "\n"
     ]
    }
   ],
   "source": [
    "# Case When\n",
    "# select employee_id, name, age, salary, gender,\n",
    "# case when gender = 'Male' then 'M' when gender = 'Female' then 'F' else null end as new_gender, hire_date from emp\n",
    "from pyspark.sql.functions import expr\n",
    "\n",
    "#using case expression directly.\n",
    "df.withColumn(\"new_gender\", expr(\"case when gender = 'Male' then 'M' when gender = 'Female' then 'F' else null end\")).show(5)\n",
    "\n",
    "\n",
    "#using when statement.\n",
    "from pyspark.sql.functions import when, col\n",
    "df.withColumn(\"new_gender\", when(col(\"gender\") == 'Male', 'M').when(col('gender') == 'Female', 'M').otherwise(None)).show(5)\n",
    "\n",
    "#df[]\n",
    "from pyspark.sql.functions import when, col\n",
    "df.withColumn(\"new_gender\", when(df['gender'] == 'Male', 'M').when(col('gender') == 'Female', 'M').otherwise(None)).show(5)"
   ]
  },
  {
   "cell_type": "code",
   "execution_count": 12,
   "id": "b8e17884-8eb9-42e8-939a-b78b8e7cd6b4",
   "metadata": {},
   "outputs": [
    {
     "name": "stdout",
     "output_type": "stream",
     "text": [
      "+------+\n",
      "|gender|\n",
      "+------+\n",
      "|  Male|\n",
      "|Female|\n",
      "|  Male|\n",
      "|Female|\n",
      "|  Male|\n",
      "+------+\n",
      "only showing top 5 rows\n",
      "\n"
     ]
    }
   ],
   "source": [
    "df.select('gender').show(5)"
   ]
  },
  {
   "cell_type": "code",
   "execution_count": 23,
   "id": "5d6830b9-7561-4204-b0af-228871906d0a",
   "metadata": {},
   "outputs": [
    {
     "ename": "SyntaxError",
     "evalue": "invalid syntax (1722645323.py, line 6)",
     "output_type": "error",
     "traceback": [
      "\u001b[0;36m  Cell \u001b[0;32mIn[23], line 6\u001b[0;36m\u001b[0m\n\u001b[0;31m    df.select(\"employee_id\", \"department_id\", \"name\", regex_replace(\"name\", 'J', 'Z') as \"new_name\" , \"age\", \"gender\", \"salary\", \"hire_date\").show(5)\u001b[0m\n\u001b[0m                                                                                      ^\u001b[0m\n\u001b[0;31mSyntaxError\u001b[0m\u001b[0;31m:\u001b[0m invalid syntax\n"
     ]
    }
   ],
   "source": [
    "# Replace in Strings\n",
    "# select employee_id, name, replace(name, 'J', 'Z') as new_name, age, salary, gender, new_gender, hire_date from emp_gender_fixed\n",
    "\n",
    "from pyspark.sql.functions import regexp_replace\n",
    "\n",
    "df.select(\"employee_id\", \"department_id\", \"name\", regex_replace(\"name\", 'J', 'Z') as \"new_name\" , \"age\", \"gender\", \"salary\", \"hire_date\").show(5)"
   ]
  },
  {
   "cell_type": "code",
   "execution_count": 25,
   "id": "dd5a7895-9f20-4ced-a1f1-793332a13187",
   "metadata": {},
   "outputs": [
    {
     "name": "stdout",
     "output_type": "stream",
     "text": [
      "+-----------+-------------+----------+---+------+------+----------+----------+\n",
      "|employee_id|department_id|      name|age|gender|salary| hire_date|  new_name|\n",
      "+-----------+-------------+----------+---+------+------+----------+----------+\n",
      "|        001|          101|  John Doe| 30|  Male| 50000|2015-01-01|  Zohn Doe|\n",
      "|        002|          101|Jane Smith| 25|Female| 45000|2016-02-15|Zane Smith|\n",
      "|        003|          102| Bob Brown| 35|  Male| 55000|2014-05-01| Bob Brown|\n",
      "|        004|          102| Alice Lee| 28|Female| 48000|2017-09-30| Alice Lee|\n",
      "|        005|          103| Jack Chan| 40|  Male| 60000|2013-04-01| Zack Chan|\n",
      "+-----------+-------------+----------+---+------+------+----------+----------+\n",
      "only showing top 5 rows\n",
      "\n"
     ]
    }
   ],
   "source": [
    "# Replace in Strings\n",
    "# select employee_id, name, replace(name, 'J', 'Z') as new_name, age, salary, gender, new_gender, hire_date from emp_gender_fixed\n",
    "\n",
    "from pyspark.sql.functions import regexp_replace\n",
    "df.withColumn(\"new_name\", regexp_replace(\"name\", 'J', 'Z')).show(5)"
   ]
  },
  {
   "cell_type": "code",
   "execution_count": 32,
   "id": "b0f966b2-a138-4066-b30e-a6097050f911",
   "metadata": {},
   "outputs": [
    {
     "name": "stdout",
     "output_type": "stream",
     "text": [
      "+-----------+-------------+----------+---+------+------+----------+\n",
      "|employee_id|department_id|      name|age|gender|salary| hire_date|\n",
      "+-----------+-------------+----------+---+------+------+----------+\n",
      "|        001|          101|  John Doe| 30|  Male| 50000|2015-01-01|\n",
      "|        002|          101|Jane Smith| 25|Female| 45000|2016-02-15|\n",
      "|        003|          102| Bob Brown| 35|  Male| 55000|2014-05-01|\n",
      "|        004|          102| Alice Lee| 28|Female| 48000|2017-09-30|\n",
      "|        005|          103| Jack Chan| 40|  Male| 60000|2013-04-01|\n",
      "+-----------+-------------+----------+---+------+------+----------+\n",
      "only showing top 5 rows\n",
      "\n"
     ]
    }
   ],
   "source": [
    "# Convert Date\n",
    "# select *,  to_date(hire_date, 'YYYY-MM-DD') as hire_date from emp_name_fixed\n",
    "\n",
    "from pyspark.sql.functions import to_date\n",
    "df.withColumn(\"hire_date\", to_date(col(\"hire_date\"), \"yyyy-MM-dd\")).show(5)\n",
    "\n"
   ]
  },
  {
   "cell_type": "code",
   "execution_count": 34,
   "id": "2325265e-f25e-4034-9e33-6a5ae935bf25",
   "metadata": {},
   "outputs": [
    {
     "name": "stdout",
     "output_type": "stream",
     "text": [
      "+-----------+-------------+----------+---+------+------+----------+------------+--------------------------+\n",
      "|employee_id|department_id|name      |age|gender|salary|hire_date |current_date|current_timestamp         |\n",
      "+-----------+-------------+----------+---+------+------+----------+------------+--------------------------+\n",
      "|001        |101          |John Doe  |30 |Male  |50000 |2015-01-01|2025-10-16  |2025-10-16 08:43:36.297368|\n",
      "|002        |101          |Jane Smith|25 |Female|45000 |2016-02-15|2025-10-16  |2025-10-16 08:43:36.297368|\n",
      "|003        |102          |Bob Brown |35 |Male  |55000 |2014-05-01|2025-10-16  |2025-10-16 08:43:36.297368|\n",
      "|004        |102          |Alice Lee |28 |Female|48000 |2017-09-30|2025-10-16  |2025-10-16 08:43:36.297368|\n",
      "|005        |103          |Jack Chan |40 |Male  |60000 |2013-04-01|2025-10-16  |2025-10-16 08:43:36.297368|\n",
      "+-----------+-------------+----------+---+------+------+----------+------------+--------------------------+\n",
      "only showing top 5 rows\n",
      "\n"
     ]
    }
   ],
   "source": [
    "# Add Date Columns\n",
    "# Add current_date, current_timestamp, extract year from hire_date\n",
    "\n",
    "from pyspark.sql.functions import current_date, current_timestamp\n",
    "\n",
    "df.withColumn(\"current_date\", current_date()).withColumn(\"current_timestamp\", current_timestamp()).show(5, truncate = False)\n"
   ]
  },
  {
   "cell_type": "code",
   "execution_count": null,
   "id": "fa95636c-22b0-456b-9c5d-55ee04cd2d84",
   "metadata": {},
   "outputs": [],
   "source": [
    "# Drop Null gender records\n",
    "emp_1 = emp_dated.na.drop()"
   ]
  },
  {
   "cell_type": "code",
   "execution_count": 48,
   "id": "ed3e6e91-8823-481b-818a-6f5eb0ee78d0",
   "metadata": {},
   "outputs": [
    {
     "name": "stdout",
     "output_type": "stream",
     "text": [
      "+-----------+-------------+-------------+---+------+------+----------+\n",
      "|employee_id|department_id|         name|age|gender|salary| hire_date|\n",
      "+-----------+-------------+-------------+---+------+------+----------+\n",
      "|        001|          101|     John Doe| 30|  Male| 50000|2015-01-01|\n",
      "|        002|          101|   Jane Smith| 25|Female| 45000|2016-02-15|\n",
      "|        003|          102|    Bob Brown| 35|  Male| 55000|2014-05-01|\n",
      "|        004|          102|    Alice Lee| 28|Female| 48000|2017-09-30|\n",
      "|        005|          103|    Jack Chan| 40|  Male| 60000|2013-04-01|\n",
      "|        006|          103|    Jill Wong| 32|Female| 52000|2018-07-01|\n",
      "|        007|          101|James Johnson| 42|  Male| 70000|2012-03-15|\n",
      "|        008|          102|     Kate Kim| 29|Female| 51000|2019-10-01|\n",
      "|        009|          103|      Tom Tan| 33|  Male| 58000|2016-06-01|\n",
      "|        010|          104|     Lisa Lee| 27|Female| 47000|2018-08-01|\n",
      "|        011|          104|   David Park| 38|  Male| 65000|2015-11-01|\n",
      "|        012|          105|   Susan Chen| 31|Female| 54000|2017-02-15|\n",
      "|        013|          106|    Brian Kim| 45|  Male| 75000|2011-07-01|\n",
      "|        014|          107|    Emily Lee| 26|Female| 46000|2019-01-01|\n",
      "|        015|          106|  Michael Lee| 37|  Male| 63000|2014-09-30|\n",
      "|        016|          107|  Kelly Zhang| 30|Female| 49000|2018-04-01|\n",
      "|        017|          105|  George Wang| 34|  Male| 57000|2016-03-15|\n",
      "|        018|          104|    Nancy Liu| 29|      | 50000|2017-06-01|\n",
      "|        019|          103|  Steven Chen| 36|  Male| 62000|2015-08-01|\n",
      "|        020|          102|    Grace Kim| 32|Female| 53000|2018-11-01|\n",
      "+-----------+-------------+-------------+---+------+------+----------+\n",
      "\n",
      "+-----------+-------------+-------------+---+------+------+----------+\n",
      "|employee_id|department_id|         name|age|gender|salary| hire_date|\n",
      "+-----------+-------------+-------------+---+------+------+----------+\n",
      "|        001|          101|     John Doe| 30|  Male| 50000|2015-01-01|\n",
      "|        002|          101|   Jane Smith| 25|Female| 45000|2016-02-15|\n",
      "|        003|          102|    Bob Brown| 35|  Male| 55000|2014-05-01|\n",
      "|        004|          102|    Alice Lee| 28|Female| 48000|2017-09-30|\n",
      "|        005|          103|    Jack Chan| 40|  Male| 60000|2013-04-01|\n",
      "|        006|          103|    Jill Wong| 32|Female| 52000|2018-07-01|\n",
      "|        007|          101|James Johnson| 42|  Male| 70000|2012-03-15|\n",
      "|        008|          102|     Kate Kim| 29|Female| 51000|2019-10-01|\n",
      "|        009|          103|      Tom Tan| 33|  Male| 58000|2016-06-01|\n",
      "|        010|          104|     Lisa Lee| 27|Female| 47000|2018-08-01|\n",
      "|        011|          104|   David Park| 38|  Male| 65000|2015-11-01|\n",
      "|        012|          105|   Susan Chen| 31|Female| 54000|2017-02-15|\n",
      "|        013|          106|    Brian Kim| 45|  Male| 75000|2011-07-01|\n",
      "|        014|          107|    Emily Lee| 26|Female| 46000|2019-01-01|\n",
      "|        015|          106|  Michael Lee| 37|  Male| 63000|2014-09-30|\n",
      "|        016|          107|  Kelly Zhang| 30|Female| 49000|2018-04-01|\n",
      "|        017|          105|  George Wang| 34|  Male| 57000|2016-03-15|\n",
      "|        018|          104|    Nancy Liu| 29|      | 50000|2017-06-01|\n",
      "|        019|          103|  Steven Chen| 36|  Male| 62000|2015-08-01|\n",
      "|        020|          102|    Grace Kim| 32|Female| 53000|2018-11-01|\n",
      "+-----------+-------------+-------------+---+------+------+----------+\n",
      "\n",
      "+-----------+-------------+-------------+---+------+------+----------+----------+\n",
      "|employee_id|department_id|         name|age|gender|salary| hire_date|new_gender|\n",
      "+-----------+-------------+-------------+---+------+------+----------+----------+\n",
      "|        001|          101|     John Doe| 30|  Male| 50000|2015-01-01|         M|\n",
      "|        002|          101|   Jane Smith| 25|Female| 45000|2016-02-15|         F|\n",
      "|        003|          102|    Bob Brown| 35|  Male| 55000|2014-05-01|         M|\n",
      "|        004|          102|    Alice Lee| 28|Female| 48000|2017-09-30|         F|\n",
      "|        005|          103|    Jack Chan| 40|  Male| 60000|2013-04-01|         M|\n",
      "|        006|          103|    Jill Wong| 32|Female| 52000|2018-07-01|         F|\n",
      "|        007|          101|James Johnson| 42|  Male| 70000|2012-03-15|         M|\n",
      "|        008|          102|     Kate Kim| 29|Female| 51000|2019-10-01|         F|\n",
      "|        009|          103|      Tom Tan| 33|  Male| 58000|2016-06-01|         M|\n",
      "|        010|          104|     Lisa Lee| 27|Female| 47000|2018-08-01|         F|\n",
      "|        011|          104|   David Park| 38|  Male| 65000|2015-11-01|         M|\n",
      "|        012|          105|   Susan Chen| 31|Female| 54000|2017-02-15|         F|\n",
      "|        013|          106|    Brian Kim| 45|  Male| 75000|2011-07-01|         M|\n",
      "|        014|          107|    Emily Lee| 26|Female| 46000|2019-01-01|         F|\n",
      "|        015|          106|  Michael Lee| 37|  Male| 63000|2014-09-30|         M|\n",
      "|        016|          107|  Kelly Zhang| 30|Female| 49000|2018-04-01|         F|\n",
      "|        017|          105|  George Wang| 34|  Male| 57000|2016-03-15|         M|\n",
      "|        018|          104|    Nancy Liu| 29|      | 50000|2017-06-01|         O|\n",
      "|        019|          103|  Steven Chen| 36|  Male| 62000|2015-08-01|         M|\n",
      "|        020|          102|    Grace Kim| 32|Female| 53000|2018-11-01|         F|\n",
      "+-----------+-------------+-------------+---+------+------+----------+----------+\n",
      "\n"
     ]
    }
   ],
   "source": [
    "# Fix Null values\n",
    "# select *, nvl('new_gender', 'O') as new_gender from emp_dated\n",
    "\n",
    "from pyspark.sql.functions import coalesce, lit\n",
    "\n",
    "df.show()\n",
    "\n",
    "df.withColumn(\"gender\", coalesce(col(\"gender\"), lit(\"OTHER\"))).show()\n",
    "\n",
    "\n",
    "# ** this is not working, check again. **\n",
    "# becase, it is blank, not None!\n",
    "\n",
    "df.withColumn(\"new_gender\", when(col(\"gender\") == 'Male', 'M').when(col(\"gender\") == 'Female', 'F').otherwise(None)).withColumn(\"new_gender\", coalesce(col(\"new_gender\"), lit(\"O\"))).show()"
   ]
  },
  {
   "cell_type": "code",
   "execution_count": 43,
   "id": "012eb74a-eabf-4fc5-9383-df971d824046",
   "metadata": {},
   "outputs": [
    {
     "name": "stdout",
     "output_type": "stream",
     "text": [
      "+-----------+-------------+----------+---+------+------+----------+---------------------+\n",
      "|employee_id|department_id|      name|age|gender|salary| hire_date|string_formatted_date|\n",
      "+-----------+-------------+----------+---+------+------+----------+---------------------+\n",
      "|        001|          101|  John Doe| 30|  Male| 50000|2015-01-01|             20150101|\n",
      "|        002|          101|Jane Smith| 25|Female| 45000|2016-02-15|             20160215|\n",
      "|        003|          102| Bob Brown| 35|  Male| 55000|2014-05-01|             20140501|\n",
      "|        004|          102| Alice Lee| 28|Female| 48000|2017-09-30|             20170930|\n",
      "|        005|          103| Jack Chan| 40|  Male| 60000|2013-04-01|             20130401|\n",
      "+-----------+-------------+----------+---+------+------+----------+---------------------+\n",
      "only showing top 5 rows\n",
      "\n"
     ]
    }
   ],
   "source": [
    "# Bonus TIP\n",
    "# Convert date into String and extract date information\n",
    "\n",
    "from pyspark.sql.functions import date_format\n",
    "\n",
    "df.withColumn(\"string_formatted_date\", date_format(col(\"hire_date\"), \"yyyyMMdd\")).show(5)\n"
   ]
  },
  {
   "cell_type": "code",
   "execution_count": null,
   "id": "c4384443-230a-432b-854d-dd8d2a0bf42a",
   "metadata": {},
   "outputs": [],
   "source": []
  }
 ],
 "metadata": {
  "kernelspec": {
   "display_name": "Python 3 (ipykernel)",
   "language": "python",
   "name": "python3"
  },
  "language_info": {
   "codemirror_mode": {
    "name": "ipython",
    "version": 3
   },
   "file_extension": ".py",
   "mimetype": "text/x-python",
   "name": "python",
   "nbconvert_exporter": "python",
   "pygments_lexer": "ipython3",
   "version": "3.10.18"
  }
 },
 "nbformat": 4,
 "nbformat_minor": 5
}
