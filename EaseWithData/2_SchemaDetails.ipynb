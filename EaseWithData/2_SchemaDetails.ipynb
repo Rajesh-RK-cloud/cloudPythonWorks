{
 "cells": [
  {
   "cell_type": "code",
   "execution_count": 15,
   "id": "14a2e433-abf4-481d-8492-e48c1252a0fa",
   "metadata": {},
   "outputs": [
    {
     "data": {
      "text/html": [
       "\n",
       "            <div>\n",
       "                <p><b>SparkSession - in-memory</b></p>\n",
       "                \n",
       "        <div>\n",
       "            <p><b>SparkContext</b></p>\n",
       "\n",
       "            <p><a href=\"http://30a63e664cb6:4040\">Spark UI</a></p>\n",
       "\n",
       "            <dl>\n",
       "              <dt>Version</dt>\n",
       "                <dd><code>v3.3.0</code></dd>\n",
       "              <dt>Master</dt>\n",
       "                <dd><code>local[*]</code></dd>\n",
       "              <dt>AppName</dt>\n",
       "                <dd><code>2_SchemaDetails</code></dd>\n",
       "            </dl>\n",
       "        </div>\n",
       "        \n",
       "            </div>\n",
       "        "
      ],
      "text/plain": [
       "<pyspark.sql.session.SparkSession at 0x746b71f29960>"
      ]
     },
     "execution_count": 15,
     "metadata": {},
     "output_type": "execute_result"
    }
   ],
   "source": [
    "from pyspark.sql import SparkSession\n",
    "\n",
    "spark = (\n",
    "    SparkSession\n",
    "    .builder\n",
    "    .appName(\"2_SchemaDetails\")\n",
    "    .master(\"local[*]\")\n",
    "    .getOrCreate()\n",
    ")\n",
    "\n",
    "spark\n"
   ]
  },
  {
   "cell_type": "code",
   "execution_count": 16,
   "id": "3d88a540-3bda-413c-9775-95a6c4a05eb4",
   "metadata": {},
   "outputs": [],
   "source": [
    "# Emp Data & Schema\n",
    "from pyspark.sql.types import StructType, StructField, StringType\n",
    "\n",
    "emp_data = [\n",
    "    [\"001\",\"101\",\"John Doe\",\"30\",\"Male\",\"50000\",\"2015-01-01\"],\n",
    "    [\"002\",\"101\",\"Jane Smith\",\"25\",\"Female\",\"45000\",\"2016-02-15\"],\n",
    "    [\"003\",\"102\",\"Bob Brown\",\"35\",\"Male\",\"55000\",\"2014-05-01\"],\n",
    "    [\"004\",\"102\",\"Alice Lee\",\"28\",\"Female\",\"48000\",\"2017-09-30\"],\n",
    "    [\"005\",\"103\",\"Jack Chan\",\"40\",\"Male\",\"60000\",\"2013-04-01\"],\n",
    "    [\"006\",\"103\",\"Jill Wong\",\"32\",\"Female\",\"52000\",\"2018-07-01\"],\n",
    "    [\"007\",\"101\",\"James Johnson\",\"42\",\"Male\",\"70000\",\"2012-03-15\"],\n",
    "    [\"008\",\"102\",\"Kate Kim\",\"29\",\"Female\",\"51000\",\"2019-10-01\"],\n",
    "    [\"009\",\"103\",\"Tom Tan\",\"33\",\"Male\",\"58000\",\"2016-06-01\"],\n",
    "    [\"010\",\"104\",\"Lisa Lee\",\"27\",\"Female\",\"47000\",\"2018-08-01\"],\n",
    "    [\"011\",\"104\",\"David Park\",\"38\",\"Male\",\"65000\",\"2015-11-01\"],\n",
    "    [\"012\",\"105\",\"Susan Chen\",\"31\",\"Female\",\"54000\",\"2017-02-15\"],\n",
    "    [\"013\",\"106\",\"Brian Kim\",\"45\",\"Male\",\"75000\",\"2011-07-01\"],\n",
    "    [\"014\",\"107\",\"Emily Lee\",\"26\",\"Female\",\"46000\",\"2019-01-01\"],\n",
    "    [\"015\",\"106\",\"Michael Lee\",\"37\",\"Male\",\"63000\",\"2014-09-30\"],\n",
    "    [\"016\",\"107\",\"Kelly Zhang\",\"30\",\"Female\",\"49000\",\"2018-04-01\"],\n",
    "    [\"017\",\"105\",\"George Wang\",\"34\",\"Male\",\"57000\",\"2016-03-15\"],\n",
    "    [\"018\",\"104\",\"Nancy Liu\",\"29\",\"Female\",\"50000\",\"2017-06-01\"],\n",
    "    [\"019\",\"103\",\"Steven Chen\",\"36\",\"Male\",\"62000\",\"2015-08-01\"],\n",
    "    [\"020\",\"102\",\"Grace Kim\",\"32\",\"Female\",\"53000\",\"2018-11-01\"]\n",
    "]\n",
    "\n",
    "# emp_schema = \"employee_id string, department_id string, name string, age string, gender string, salary string, hire_date string\"\n",
    "\n",
    "\n",
    "emp_schema = StructType([\n",
    "    StructField(\"employee_id\", StringType(), True),\n",
    "    StructField(\"department_id\", StringType(), True),\n",
    "    StructField(\"name\", StringType(), True),\n",
    "    StructField(\"age\", StringType(), True),\n",
    "    StructField(\"gender\", StringType(), True),\n",
    "    StructField(\"salary\", StringType(), True),\n",
    "    StructField(\"hire_date\", StringType(), True)\n",
    "])\n"
   ]
  },
  {
   "cell_type": "code",
   "execution_count": 17,
   "id": "9b54b159-4d52-4191-b328-7870194c2d64",
   "metadata": {},
   "outputs": [],
   "source": [
    "#create a data frame\n",
    "\n",
    "df = spark.createDataFrame(data = emp_data, schema = emp_schema)"
   ]
  },
  {
   "cell_type": "code",
   "execution_count": 18,
   "id": "450bea67-d86f-41a7-9502-c1177f0f5aa1",
   "metadata": {},
   "outputs": [
    {
     "name": "stdout",
     "output_type": "stream",
     "text": [
      "root\n",
      " |-- employee_id: string (nullable = true)\n",
      " |-- department_id: string (nullable = true)\n",
      " |-- name: string (nullable = true)\n",
      " |-- age: string (nullable = true)\n",
      " |-- gender: string (nullable = true)\n",
      " |-- salary: string (nullable = true)\n",
      " |-- hire_date: string (nullable = true)\n",
      "\n"
     ]
    }
   ],
   "source": [
    "# show schema\n",
    "df.printSchema()"
   ]
  },
  {
   "cell_type": "code",
   "execution_count": 7,
   "id": "7481c7bc-0d48-44b9-8b99-ec2dfc87e72e",
   "metadata": {},
   "outputs": [
    {
     "data": {
      "text/plain": [
       "StructType([StructField('employee_id', StringType(), True), StructField('department_id', StringType(), True), StructField('name', StringType(), True), StructField('age', StringType(), True), StructField('gender', StringType(), True), StructField('salary', StringType(), True), StructField('hire_date', StringType(), True)])"
      ]
     },
     "execution_count": 7,
     "metadata": {},
     "output_type": "execute_result"
    }
   ],
   "source": [
    "# show schema in spark native notation.\n",
    "\n",
    "df.schema"
   ]
  },
  {
   "cell_type": "code",
   "execution_count": 19,
   "id": "ea1b0164-4d5c-48c3-81be-d92249d16a17",
   "metadata": {},
   "outputs": [
    {
     "name": "stdout",
     "output_type": "stream",
     "text": [
      "+-----------+-------------+-------------+---+------+------+----------+\n",
      "|employee_id|department_id|         name|age|gender|salary| hire_date|\n",
      "+-----------+-------------+-------------+---+------+------+----------+\n",
      "|        001|          101|     John Doe| 30|  Male| 50000|2015-01-01|\n",
      "|        002|          101|   Jane Smith| 25|Female| 45000|2016-02-15|\n",
      "|        003|          102|    Bob Brown| 35|  Male| 55000|2014-05-01|\n",
      "|        004|          102|    Alice Lee| 28|Female| 48000|2017-09-30|\n",
      "|        005|          103|    Jack Chan| 40|  Male| 60000|2013-04-01|\n",
      "|        006|          103|    Jill Wong| 32|Female| 52000|2018-07-01|\n",
      "|        007|          101|James Johnson| 42|  Male| 70000|2012-03-15|\n",
      "|        008|          102|     Kate Kim| 29|Female| 51000|2019-10-01|\n",
      "|        009|          103|      Tom Tan| 33|  Male| 58000|2016-06-01|\n",
      "|        010|          104|     Lisa Lee| 27|Female| 47000|2018-08-01|\n",
      "|        011|          104|   David Park| 38|  Male| 65000|2015-11-01|\n",
      "|        012|          105|   Susan Chen| 31|Female| 54000|2017-02-15|\n",
      "|        013|          106|    Brian Kim| 45|  Male| 75000|2011-07-01|\n",
      "|        014|          107|    Emily Lee| 26|Female| 46000|2019-01-01|\n",
      "|        015|          106|  Michael Lee| 37|  Male| 63000|2014-09-30|\n",
      "|        016|          107|  Kelly Zhang| 30|Female| 49000|2018-04-01|\n",
      "|        017|          105|  George Wang| 34|  Male| 57000|2016-03-15|\n",
      "|        018|          104|    Nancy Liu| 29|Female| 50000|2017-06-01|\n",
      "|        019|          103|  Steven Chen| 36|  Male| 62000|2015-08-01|\n",
      "|        020|          102|    Grace Kim| 32|Female| 53000|2018-11-01|\n",
      "+-----------+-------------+-------------+---+------+------+----------+\n",
      "\n"
     ]
    }
   ],
   "source": [
    "df.show()"
   ]
  },
  {
   "cell_type": "code",
   "execution_count": 25,
   "id": "59a12c68-16c4-4a0d-91d0-228d4adad475",
   "metadata": {},
   "outputs": [
    {
     "name": "stdout",
     "output_type": "stream",
     "text": [
      "root\n",
      " |-- salary: double (nullable = true)\n",
      "\n",
      "root\n",
      " |-- salary: double (nullable = true)\n",
      "\n",
      "root\n",
      " |-- salary: double (nullable = true)\n",
      "\n"
     ]
    }
   ],
   "source": [
    "# Casting Column\n",
    "# select employee_id, name, age, cast(salary as double) as salary from emp\n",
    "\n",
    "from pyspark.sql.functions import expr\n",
    "\n",
    "df.select(expr(\"cast(salary as double) as salary\")).printSchema()\n",
    "\n",
    "df.selectExpr(\"cast(salary as double)\").printSchema()\n",
    "\n",
    "df.select(col(\"salary\").cast(\"double\")).printSchema()\n"
   ]
  },
  {
   "cell_type": "code",
   "execution_count": 36,
   "id": "628d6b67-b73f-4dc6-8e8d-72b1f54d4089",
   "metadata": {},
   "outputs": [],
   "source": [
    "df1 = df.select(\"name\", \"age\", expr(\"cast(salary as double)\"))"
   ]
  },
  {
   "cell_type": "code",
   "execution_count": 41,
   "id": "9921d4ba-29ca-453e-8f44-1a1301a5da34",
   "metadata": {},
   "outputs": [
    {
     "name": "stdout",
     "output_type": "stream",
     "text": [
      "root\n",
      " |-- name: string (nullable = true)\n",
      " |-- age: string (nullable = true)\n",
      " |-- salary: double (nullable = true)\n",
      "\n",
      "+----------+---+-------+\n",
      "|      name|age| salary|\n",
      "+----------+---+-------+\n",
      "|  John Doe| 30|50000.0|\n",
      "|Jane Smith| 25|45000.0|\n",
      "| Bob Brown| 35|55000.0|\n",
      "| Alice Lee| 28|48000.0|\n",
      "| Jack Chan| 40|60000.0|\n",
      "+----------+---+-------+\n",
      "only showing top 5 rows\n",
      "\n"
     ]
    }
   ],
   "source": [
    "df1.printSchema()\n",
    "df1.show(5)"
   ]
  },
  {
   "cell_type": "code",
   "execution_count": 44,
   "id": "cfda2a4d-473a-4b9c-b6d8-f8048453ae25",
   "metadata": {},
   "outputs": [
    {
     "name": "stdout",
     "output_type": "stream",
     "text": [
      "root\n",
      " |-- name: string (nullable = true)\n",
      " |-- age: string (nullable = true)\n",
      " |-- salary: double (nullable = true)\n",
      " |-- tax: double (nullable = true)\n",
      "\n",
      "+----------+---+-------+-------+\n",
      "|      name|age| salary|    tax|\n",
      "+----------+---+-------+-------+\n",
      "|  John Doe| 30|50000.0|10000.0|\n",
      "|Jane Smith| 25|45000.0| 9000.0|\n",
      "| Bob Brown| 35|55000.0|11000.0|\n",
      "| Alice Lee| 28|48000.0| 9600.0|\n",
      "| Jack Chan| 40|60000.0|12000.0|\n",
      "+----------+---+-------+-------+\n",
      "only showing top 5 rows\n",
      "\n"
     ]
    }
   ],
   "source": [
    "# Adding Columns\n",
    "# select employee_id, name, age, salary, (salary * 0.2) as tax from emp_casted\n",
    "\n",
    "df2 = df1.withColumn(\"tax\", col(\"salary\") * 0.2 )\n",
    "\n",
    "df2.printSchema()\n",
    "\n",
    "df2.show(5)"
   ]
  },
  {
   "cell_type": "code",
   "execution_count": 46,
   "id": "bbbf9ef1-20a1-40d1-b0d3-617398cd2f40",
   "metadata": {},
   "outputs": [
    {
     "name": "stdout",
     "output_type": "stream",
     "text": [
      "root\n",
      " |-- name: string (nullable = true)\n",
      " |-- age: string (nullable = true)\n",
      " |-- salary: double (nullable = true)\n",
      " |-- tax: double (nullable = true)\n",
      " |-- Lit_Integer: integer (nullable = false)\n",
      " |-- Lit_String: string (nullable = false)\n",
      "\n",
      "+----------+---+-------+-------+-----------+----------+\n",
      "|      name|age| salary|    tax|Lit_Integer|Lit_String|\n",
      "+----------+---+-------+-------+-----------+----------+\n",
      "|  John Doe| 30|50000.0|10000.0|          1|       two|\n",
      "|Jane Smith| 25|45000.0| 9000.0|          1|       two|\n",
      "| Bob Brown| 35|55000.0|11000.0|          1|       two|\n",
      "| Alice Lee| 28|48000.0| 9600.0|          1|       two|\n",
      "| Jack Chan| 40|60000.0|12000.0|          1|       two|\n",
      "+----------+---+-------+-------+-----------+----------+\n",
      "only showing top 5 rows\n",
      "\n"
     ]
    }
   ],
   "source": [
    "# Literals\n",
    "# select employee_id, name, age, salary, tax, 1 as columnOne, 'two' as columnTwo from emp_taxed\n",
    "\n",
    "from pyspark.sql.functions import lit\n",
    "\n",
    "df3 = df2.withColumn(\"Lit_Integer\", lit(1)).withColumn(\"Lit_String\", lit(\"two\"))\n",
    "\n",
    "df3.printSchema()\n",
    "\n",
    "df3.show(5)\n"
   ]
  },
  {
   "cell_type": "code",
   "execution_count": 53,
   "id": "573f544f-d252-4195-9b67-35400589c93b",
   "metadata": {},
   "outputs": [
    {
     "name": "stdout",
     "output_type": "stream",
     "text": [
      "+----------+\n",
      "|lit_string|\n",
      "+----------+\n",
      "|       two|\n",
      "|       two|\n",
      "|       two|\n",
      "|       two|\n",
      "|       two|\n",
      "+----------+\n",
      "only showing top 5 rows\n",
      "\n",
      "+----------+\n",
      "|lit_string|\n",
      "+----------+\n",
      "|       two|\n",
      "|       two|\n",
      "|       two|\n",
      "|       two|\n",
      "|       two|\n",
      "+----------+\n",
      "only showing top 5 rows\n",
      "\n",
      "+----------+---+-------+-------+-----------+----------+\n",
      "|      name|age| salary|    tax|Lit_Integer|lit_string|\n",
      "+----------+---+-------+-------+-----------+----------+\n",
      "|  John Doe| 30|50000.0|10000.0|          1|       two|\n",
      "|Jane Smith| 25|45000.0| 9000.0|          1|       two|\n",
      "| Bob Brown| 35|55000.0|11000.0|          1|       two|\n",
      "| Alice Lee| 28|48000.0| 9600.0|          1|       two|\n",
      "| Jack Chan| 40|60000.0|12000.0|          1|       two|\n",
      "+----------+---+-------+-------+-----------+----------+\n",
      "only showing top 5 rows\n",
      "\n"
     ]
    }
   ],
   "source": [
    "# Renaming Columns\n",
    "# select employee_id as emp_id, name, age, salary, tax, columnOne, columnTwo from emp_new_cols\n",
    "\n",
    "\n",
    "df3.select(expr(\"Lit_String as lit_string\")).show(5)\n",
    "\n",
    "df3.selectExpr(\"Lit_String as lit_string\").show(5)\n",
    "\n",
    "df3.withColumnRenamed(\"Lit_String\", \"lit_string\").show(5)\n",
    "\n",
    "\n"
   ]
  },
  {
   "cell_type": "code",
   "execution_count": 57,
   "id": "5bc1ca6a-c584-4101-9cec-4a1d8ee4f441",
   "metadata": {},
   "outputs": [
    {
     "name": "stdout",
     "output_type": "stream",
     "text": [
      "+-----------+-------------+----------+---+------+------+----------+\n",
      "|employee_id|department_id|      name|age|gender|salary| hire_date|\n",
      "+-----------+-------------+----------+---+------+------+----------+\n",
      "|        001|          101|  John Doe| 30|  Male| 50000|2015-01-01|\n",
      "|        002|          101|Jane Smith| 25|Female| 45000|2016-02-15|\n",
      "|        003|          102| Bob Brown| 35|  Male| 55000|2014-05-01|\n",
      "|        004|          102| Alice Lee| 28|Female| 48000|2017-09-30|\n",
      "|        005|          103| Jack Chan| 40|  Male| 60000|2013-04-01|\n",
      "+-----------+-------------+----------+---+------+------+----------+\n",
      "only showing top 5 rows\n",
      "\n"
     ]
    },
    {
     "ename": "AnalysisException",
     "evalue": "Column 'dummy' does not exist. Did you mean one of the following? [name, age, salary, gender, hire_date, employee_id, department_id]; line 1 pos 0;\n'Project ['dummy, 'timmy]\n+- LogicalRDD [employee_id#50, department_id#51, name#52, age#53, gender#54, salary#55, hire_date#56], false\n",
     "output_type": "error",
     "traceback": [
      "\u001b[0;31m---------------------------------------------------------------------------\u001b[0m",
      "\u001b[0;31mAnalysisException\u001b[0m                         Traceback (most recent call last)",
      "Cell \u001b[0;32mIn[57], line 5\u001b[0m\n\u001b[1;32m      1\u001b[0m \u001b[38;5;66;03m#non existent columns can be renamed and they do not throw error incase of withColumnRenamed!\u001b[39;00m\n\u001b[1;32m      3\u001b[0m df\u001b[38;5;241m.\u001b[39mwithColumnRenamed(\u001b[38;5;124m\"\u001b[39m\u001b[38;5;124mdummy\u001b[39m\u001b[38;5;124m\"\u001b[39m, \u001b[38;5;124m\"\u001b[39m\u001b[38;5;124mtimmy\u001b[39m\u001b[38;5;124m\"\u001b[39m)\u001b[38;5;241m.\u001b[39mshow(\u001b[38;5;241m5\u001b[39m)\n\u001b[0;32m----> 5\u001b[0m \u001b[43mdf\u001b[49m\u001b[38;5;241;43m.\u001b[39;49m\u001b[43mselectExpr\u001b[49m\u001b[43m(\u001b[49m\u001b[38;5;124;43m\"\u001b[39;49m\u001b[38;5;124;43mdummy\u001b[39;49m\u001b[38;5;124;43m\"\u001b[39;49m\u001b[43m,\u001b[49m\u001b[43m \u001b[49m\u001b[38;5;124;43m\"\u001b[39;49m\u001b[38;5;124;43mtimmy\u001b[39;49m\u001b[38;5;124;43m\"\u001b[39;49m\u001b[43m)\u001b[49m\u001b[38;5;241m.\u001b[39mshow(\u001b[38;5;241m5\u001b[39m)\n",
      "File \u001b[0;32m/spark/python/pyspark/sql/dataframe.py:2048\u001b[0m, in \u001b[0;36mDataFrame.selectExpr\u001b[0;34m(self, *expr)\u001b[0m\n\u001b[1;32m   2046\u001b[0m \u001b[38;5;28;01mif\u001b[39;00m \u001b[38;5;28mlen\u001b[39m(expr) \u001b[38;5;241m==\u001b[39m \u001b[38;5;241m1\u001b[39m \u001b[38;5;129;01mand\u001b[39;00m \u001b[38;5;28misinstance\u001b[39m(expr[\u001b[38;5;241m0\u001b[39m], \u001b[38;5;28mlist\u001b[39m):\n\u001b[1;32m   2047\u001b[0m     expr \u001b[38;5;241m=\u001b[39m expr[\u001b[38;5;241m0\u001b[39m]  \u001b[38;5;66;03m# type: ignore[assignment]\u001b[39;00m\n\u001b[0;32m-> 2048\u001b[0m jdf \u001b[38;5;241m=\u001b[39m \u001b[38;5;28;43mself\u001b[39;49m\u001b[38;5;241;43m.\u001b[39;49m\u001b[43m_jdf\u001b[49m\u001b[38;5;241;43m.\u001b[39;49m\u001b[43mselectExpr\u001b[49m\u001b[43m(\u001b[49m\u001b[38;5;28;43mself\u001b[39;49m\u001b[38;5;241;43m.\u001b[39;49m\u001b[43m_jseq\u001b[49m\u001b[43m(\u001b[49m\u001b[43mexpr\u001b[49m\u001b[43m)\u001b[49m\u001b[43m)\u001b[49m\n\u001b[1;32m   2049\u001b[0m \u001b[38;5;28;01mreturn\u001b[39;00m DataFrame(jdf, \u001b[38;5;28mself\u001b[39m\u001b[38;5;241m.\u001b[39msparkSession)\n",
      "File \u001b[0;32m/spark/python/lib/py4j-0.10.9.5-src.zip/py4j/java_gateway.py:1321\u001b[0m, in \u001b[0;36mJavaMember.__call__\u001b[0;34m(self, *args)\u001b[0m\n\u001b[1;32m   1315\u001b[0m command \u001b[38;5;241m=\u001b[39m proto\u001b[38;5;241m.\u001b[39mCALL_COMMAND_NAME \u001b[38;5;241m+\u001b[39m\\\n\u001b[1;32m   1316\u001b[0m     \u001b[38;5;28mself\u001b[39m\u001b[38;5;241m.\u001b[39mcommand_header \u001b[38;5;241m+\u001b[39m\\\n\u001b[1;32m   1317\u001b[0m     args_command \u001b[38;5;241m+\u001b[39m\\\n\u001b[1;32m   1318\u001b[0m     proto\u001b[38;5;241m.\u001b[39mEND_COMMAND_PART\n\u001b[1;32m   1320\u001b[0m answer \u001b[38;5;241m=\u001b[39m \u001b[38;5;28mself\u001b[39m\u001b[38;5;241m.\u001b[39mgateway_client\u001b[38;5;241m.\u001b[39msend_command(command)\n\u001b[0;32m-> 1321\u001b[0m return_value \u001b[38;5;241m=\u001b[39m \u001b[43mget_return_value\u001b[49m\u001b[43m(\u001b[49m\n\u001b[1;32m   1322\u001b[0m \u001b[43m    \u001b[49m\u001b[43manswer\u001b[49m\u001b[43m,\u001b[49m\u001b[43m \u001b[49m\u001b[38;5;28;43mself\u001b[39;49m\u001b[38;5;241;43m.\u001b[39;49m\u001b[43mgateway_client\u001b[49m\u001b[43m,\u001b[49m\u001b[43m \u001b[49m\u001b[38;5;28;43mself\u001b[39;49m\u001b[38;5;241;43m.\u001b[39;49m\u001b[43mtarget_id\u001b[49m\u001b[43m,\u001b[49m\u001b[43m \u001b[49m\u001b[38;5;28;43mself\u001b[39;49m\u001b[38;5;241;43m.\u001b[39;49m\u001b[43mname\u001b[49m\u001b[43m)\u001b[49m\n\u001b[1;32m   1324\u001b[0m \u001b[38;5;28;01mfor\u001b[39;00m temp_arg \u001b[38;5;129;01min\u001b[39;00m temp_args:\n\u001b[1;32m   1325\u001b[0m     temp_arg\u001b[38;5;241m.\u001b[39m_detach()\n",
      "File \u001b[0;32m/spark/python/pyspark/sql/utils.py:196\u001b[0m, in \u001b[0;36mcapture_sql_exception.<locals>.deco\u001b[0;34m(*a, **kw)\u001b[0m\n\u001b[1;32m    192\u001b[0m converted \u001b[38;5;241m=\u001b[39m convert_exception(e\u001b[38;5;241m.\u001b[39mjava_exception)\n\u001b[1;32m    193\u001b[0m \u001b[38;5;28;01mif\u001b[39;00m \u001b[38;5;129;01mnot\u001b[39;00m \u001b[38;5;28misinstance\u001b[39m(converted, UnknownException):\n\u001b[1;32m    194\u001b[0m     \u001b[38;5;66;03m# Hide where the exception came from that shows a non-Pythonic\u001b[39;00m\n\u001b[1;32m    195\u001b[0m     \u001b[38;5;66;03m# JVM exception message.\u001b[39;00m\n\u001b[0;32m--> 196\u001b[0m     \u001b[38;5;28;01mraise\u001b[39;00m converted \u001b[38;5;28;01mfrom\u001b[39;00m\u001b[38;5;250m \u001b[39m\u001b[38;5;28;01mNone\u001b[39;00m\n\u001b[1;32m    197\u001b[0m \u001b[38;5;28;01melse\u001b[39;00m:\n\u001b[1;32m    198\u001b[0m     \u001b[38;5;28;01mraise\u001b[39;00m\n",
      "\u001b[0;31mAnalysisException\u001b[0m: Column 'dummy' does not exist. Did you mean one of the following? [name, age, salary, gender, hire_date, employee_id, department_id]; line 1 pos 0;\n'Project ['dummy, 'timmy]\n+- LogicalRDD [employee_id#50, department_id#51, name#52, age#53, gender#54, salary#55, hire_date#56], false\n"
     ]
    }
   ],
   "source": [
    "#non existent columns can be renamed and they do not throw error incase of withColumnRenamed!\n",
    "\n",
    "df.withColumnRenamed(\"dummy\", \"timmy\").show(5)\n",
    "\n",
    "df.selectExpr(\"dummy\", \"timmy\").show(5)"
   ]
  },
  {
   "cell_type": "code",
   "execution_count": 58,
   "id": "9c13a664-da7a-40fd-a2e1-fd01a1b9e3ba",
   "metadata": {},
   "outputs": [
    {
     "name": "stdout",
     "output_type": "stream",
     "text": [
      "+----------+---+-------+-------+-----------+\n",
      "|      name|age| salary|    tax|Lit_Integer|\n",
      "+----------+---+-------+-------+-----------+\n",
      "|  John Doe| 30|50000.0|10000.0|          1|\n",
      "|Jane Smith| 25|45000.0| 9000.0|          1|\n",
      "| Bob Brown| 35|55000.0|11000.0|          1|\n",
      "| Alice Lee| 28|48000.0| 9600.0|          1|\n",
      "| Jack Chan| 40|60000.0|12000.0|          1|\n",
      "+----------+---+-------+-------+-----------+\n",
      "only showing top 5 rows\n",
      "\n"
     ]
    }
   ],
   "source": [
    "# Remove Column\n",
    "\n",
    "\n",
    "df3.drop(\"Lit_String\").show(5)"
   ]
  },
  {
   "cell_type": "code",
   "execution_count": 60,
   "id": "0e67c47e-7cca-44cc-8d4a-229c2cdefd64",
   "metadata": {},
   "outputs": [
    {
     "name": "stdout",
     "output_type": "stream",
     "text": [
      "+----------+---+-------+-------+-----------+----------+\n",
      "|      name|age| salary|    tax|Lit_Integer|Lit_String|\n",
      "+----------+---+-------+-------+-----------+----------+\n",
      "|  John Doe| 30|50000.0|10000.0|          1|       two|\n",
      "|Jane Smith| 25|45000.0| 9000.0|          1|       two|\n",
      "| Bob Brown| 35|55000.0|11000.0|          1|       two|\n",
      "| Alice Lee| 28|48000.0| 9600.0|          1|       two|\n",
      "| Jack Chan| 40|60000.0|12000.0|          1|       two|\n",
      "+----------+---+-------+-------+-----------+----------+\n",
      "only showing top 5 rows\n",
      "\n"
     ]
    }
   ],
   "source": [
    "#Removing non existent column does not throw an error.\n",
    "df3.drop(\"dummy\").show(5)"
   ]
  },
  {
   "cell_type": "code",
   "execution_count": 68,
   "id": "b253336d-174c-4738-a4ec-ad7e4fbdf50e",
   "metadata": {},
   "outputs": [
    {
     "name": "stdout",
     "output_type": "stream",
     "text": [
      "+----------+---+-------+-------+\n",
      "|      name|age| salary|    tax|\n",
      "+----------+---+-------+-------+\n",
      "|  John Doe| 30|50000.0|10000.0|\n",
      "|Jane Smith| 25|45000.0| 9000.0|\n",
      "| Bob Brown| 35|55000.0|11000.0|\n",
      "| Alice Lee| 28|48000.0| 9600.0|\n",
      "| Jack Chan| 40|60000.0|12000.0|\n",
      "+----------+---+-------+-------+\n",
      "only showing top 5 rows\n",
      "\n",
      "+-------------+---+-------+-------+\n",
      "|         name|age| salary|    tax|\n",
      "+-------------+---+-------+-------+\n",
      "|    Bob Brown| 35|55000.0|11000.0|\n",
      "|    Jack Chan| 40|60000.0|12000.0|\n",
      "|    Jill Wong| 32|52000.0|10400.0|\n",
      "|James Johnson| 42|70000.0|14000.0|\n",
      "|     Kate Kim| 29|51000.0|10200.0|\n",
      "+-------------+---+-------+-------+\n",
      "only showing top 5 rows\n",
      "\n",
      "+-------------+---+-------+-------+\n",
      "|         name|age| salary|    tax|\n",
      "+-------------+---+-------+-------+\n",
      "|    Bob Brown| 35|55000.0|11000.0|\n",
      "|    Jack Chan| 40|60000.0|12000.0|\n",
      "|    Jill Wong| 32|52000.0|10400.0|\n",
      "|James Johnson| 42|70000.0|14000.0|\n",
      "|     Kate Kim| 29|51000.0|10200.0|\n",
      "+-------------+---+-------+-------+\n",
      "only showing top 5 rows\n",
      "\n"
     ]
    },
    {
     "ename": "TypeError",
     "evalue": "'>' not supported between instances of 'str' and 'int'",
     "output_type": "error",
     "traceback": [
      "\u001b[0;31m---------------------------------------------------------------------------\u001b[0m",
      "\u001b[0;31mTypeError\u001b[0m                                 Traceback (most recent call last)",
      "Cell \u001b[0;32mIn[68], line 12\u001b[0m\n\u001b[1;32m      8\u001b[0m df2\u001b[38;5;241m.\u001b[39mwhere(col(\u001b[38;5;124m\"\u001b[39m\u001b[38;5;124msalary\u001b[39m\u001b[38;5;124m\"\u001b[39m) \u001b[38;5;241m>\u001b[39m \u001b[38;5;241m50000\u001b[39m)\u001b[38;5;241m.\u001b[39mshow(\u001b[38;5;241m5\u001b[39m)\n\u001b[1;32m     11\u001b[0m \u001b[38;5;66;03m#unlike in select, where condition need to be completely in \" \"\u001b[39;00m\n\u001b[0;32m---> 12\u001b[0m df2\u001b[38;5;241m.\u001b[39mwhere(\u001b[38;5;124;43m\"\u001b[39;49m\u001b[38;5;124;43msalary\u001b[39;49m\u001b[38;5;124;43m\"\u001b[39;49m\u001b[43m \u001b[49m\u001b[38;5;241;43m>\u001b[39;49m\u001b[43m \u001b[49m\u001b[38;5;241;43m50000\u001b[39;49m)\u001b[38;5;241m.\u001b[39mshow(\u001b[38;5;241m5\u001b[39m)\n",
      "\u001b[0;31mTypeError\u001b[0m: '>' not supported between instances of 'str' and 'int'"
     ]
    }
   ],
   "source": [
    "# Filter data \n",
    "# select employee_id as emp_id, name, age, salary, tax, columnOne from emp_col_dropped where tax > 1000\n",
    "\n",
    "df2.show(5)\n",
    "\n",
    "df2.where(\"salary > 50000\").show(5)\n",
    "\n",
    "df2.where(col(\"salary\") > 50000).show(5)\n",
    "\n",
    "\n",
    "#unlike in select, where condition need to be completely in \" \"\n",
    "df2.where(\"salary\" > 50000).show(5)\n",
    "\n",
    "\n"
   ]
  },
  {
   "cell_type": "code",
   "execution_count": 69,
   "id": "26cfc43b-3002-41c8-a93a-7b6db98cbbb7",
   "metadata": {},
   "outputs": [
    {
     "name": "stdout",
     "output_type": "stream",
     "text": [
      "+----------+---+-------+-------+-----------+----------+\n",
      "|      name|age| salary|    tax|Lit_Integer|Lit_String|\n",
      "+----------+---+-------+-------+-----------+----------+\n",
      "|  John Doe| 30|50000.0|10000.0|          1|       two|\n",
      "|Jane Smith| 25|45000.0| 9000.0|          1|       two|\n",
      "| Bob Brown| 35|55000.0|11000.0|          1|       two|\n",
      "+----------+---+-------+-------+-----------+----------+\n",
      "\n"
     ]
    }
   ],
   "source": [
    "# LIMIT data\n",
    "# select employee_id as emp_id, name, age, salary, tax, columnOne from emp_filtered limit 5\n",
    "\n",
    "df4 = df3.limit(3)\n",
    "\n",
    "df4.show()\n"
   ]
  },
  {
   "cell_type": "code",
   "execution_count": 71,
   "id": "f87e0f64-420c-4e55-a551-499015ec5a89",
   "metadata": {},
   "outputs": [
    {
     "name": "stdout",
     "output_type": "stream",
     "text": [
      "+----------+---+-------+-------+-----------+----------+----------+----------+\n",
      "|      name|age| salary|    tax|Lit_Integer|Lit_String|double_tax|new_column|\n",
      "+----------+---+-------+-------+-----------+----------+----------+----------+\n",
      "|  John Doe| 30|50000.0|10000.0|          1|       two|   20000.0|JustAValue|\n",
      "|Jane Smith| 25|45000.0| 9000.0|          1|       two|   18000.0|JustAValue|\n",
      "| Bob Brown| 35|55000.0|11000.0|          1|       two|   22000.0|JustAValue|\n",
      "+----------+---+-------+-------+-----------+----------+----------+----------+\n",
      "\n"
     ]
    }
   ],
   "source": [
    "# Bonus TIP\n",
    "# Add multiple columns\n",
    "\n",
    "new_columns_to_be_added = {\n",
    "    \"double_tax\": col(\"salary\") * 0.4,\n",
    "    \"new_column\": lit(\"JustAValue\")\n",
    "}\n",
    "\n",
    "\n",
    "df4.withColumns(new_columns_to_be_added).show()\n"
   ]
  },
  {
   "cell_type": "code",
   "execution_count": 73,
   "id": "64bb1d31-947f-47d8-960a-3882131a3c80",
   "metadata": {},
   "outputs": [],
   "source": [
    "spark.stop()"
   ]
  },
  {
   "cell_type": "code",
   "execution_count": null,
   "id": "23fad2e9-8c15-4abd-91c4-944b7ba7fbc6",
   "metadata": {},
   "outputs": [],
   "source": []
  }
 ],
 "metadata": {
  "kernelspec": {
   "display_name": "Python 3 (ipykernel)",
   "language": "python",
   "name": "python3"
  },
  "language_info": {
   "codemirror_mode": {
    "name": "ipython",
    "version": 3
   },
   "file_extension": ".py",
   "mimetype": "text/x-python",
   "name": "python",
   "nbconvert_exporter": "python",
   "pygments_lexer": "ipython3",
   "version": "3.10.18"
  }
 },
 "nbformat": 4,
 "nbformat_minor": 5
}
